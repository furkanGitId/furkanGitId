{
  "cells": [
    {
      "cell_type": "markdown",
      "metadata": {
        "id": "view-in-github",
        "colab_type": "text"
      },
      "source": [
        "<a href=\"https://colab.research.google.com/github/furkanGitId/furkanGitId/blob/main/EasyOCR_(Histogram_%2B_Patches).ipynb\" target=\"_parent\"><img src=\"https://colab.research.google.com/assets/colab-badge.svg\" alt=\"Open In Colab\"/></a>"
      ]
    },
    {
      "cell_type": "markdown",
      "metadata": {
        "id": "d8atpzUavbV3"
      },
      "source": [
        "## 0. Install and Import Dependencies"
      ]
    },
    {
      "cell_type": "code",
      "execution_count": 29,
      "metadata": {
        "colab": {
          "base_uri": "https://localhost:8080/"
        },
        "collapsed": true,
        "id": "Ufd8RQMXvbWF",
        "outputId": "4fa7e6a5-bfef-4113-c187-7caef0d777ed"
      },
      "outputs": [
        {
          "output_type": "stream",
          "name": "stdout",
          "text": [
            "shell-init: error retrieving current directory: getcwd: cannot access parent directories: No such file or directory\n",
            "shell-init: error retrieving current directory: getcwd: cannot access parent directories: No such file or directory\n",
            "The folder you are executing pip from can no longer be found.\n"
          ]
        }
      ],
      "source": [
        "# Install easyocr\n",
        "!pip install easyocr"
      ]
    },
    {
      "cell_type": "code",
      "execution_count": 30,
      "metadata": {
        "id": "MLhnB-OwvbWK"
      },
      "outputs": [],
      "source": [
        "# Install Dependencies\n",
        "import easyocr\n",
        "import cv2\n",
        "from matplotlib import pyplot as plt\n",
        "import numpy as np\n",
        "import os\n",
        "import pandas as pd"
      ]
    },
    {
      "cell_type": "markdown",
      "metadata": {
        "id": "7rzI8qs9vbWO"
      },
      "source": [
        "## 1. Read image or video"
      ]
    },
    {
      "cell_type": "code",
      "execution_count": 31,
      "metadata": {
        "id": "wiVVMhh9vbWQ"
      },
      "outputs": [],
      "source": [
        "IMAGE_PATH = '/content/111.jpeg'"
      ]
    },
    {
      "cell_type": "code",
      "execution_count": 32,
      "metadata": {
        "colab": {
          "base_uri": "https://localhost:8080/"
        },
        "id": "6dqZpIGHvbWR",
        "outputId": "1186cafa-6f79-4956-a438-05a51280b203"
      },
      "outputs": [
        {
          "output_type": "execute_result",
          "data": {
            "text/plain": [
              "[([[164, 64], [568, 64], [568, 96], [164, 96]],\n",
              "  'BP SINGH DEGREE COLLEGE',\n",
              "  0.8366248325827988),\n",
              " ([[193, 97], [387, 97], [387, 117], [193, 117]],\n",
              "  'KILA ROAD ALIGANI ETAII',\n",
              "  0.5766242778059966),\n",
              " ([[157, 111], [481, 111], [481, 131], [157, 131]],\n",
              "  '(Atllliated to Raja Malendra Pratap Slngh State Unlversity',\n",
              "  0.4072034656348119),\n",
              " ([[487, 117], [535, 117], [535, 131], [487, 131]],\n",
              "  'Allgurh]',\n",
              "  0.23786908960987843),\n",
              " ([[167, 133], [259, 133], [259, 147], [167, 147]],\n",
              "  'Websile: WWw_',\n",
              "  0.10863052784153485),\n",
              " ([[256, 131], [363, 131], [363, 151], [256, 151]],\n",
              "  'bpsdcollege com',\n",
              "  0.6812562338053704),\n",
              " ([[165, 147], [367, 147], [367, 163], [165, 163]],\n",
              "  'Fuil; hpsdcollceR@#ulcom',\n",
              "  0.08209485089603594),\n",
              " ([[545, 149], [597, 149], [597, 161], [545, 161]],\n",
              "  'Student i',\n",
              "  0.11869878719456069),\n",
              " ([[75, 157], [157, 157], [157, 171], [75, 171]],\n",
              "  '\"miiim iOui .',\n",
              "  0.031711257467994816),\n",
              " ([[251, 173], [393, 173], [393, 187], [251, 187]],\n",
              "  'ADMISSION TORM 2022.23',\n",
              "  0.784526656431905),\n",
              " ([[545, 173], [617, 173], [617, 189], [545, 189]],\n",
              "  'Recent photo',\n",
              "  0.7127462719068921),\n",
              " ([[67, 197], [189, 197], [189, 213], [67, 213]],\n",
              "  'ADMISSTON T0 CASS',\n",
              "  0.22861073491958167),\n",
              " ([[307, 203], [383, 203], [383, 217], [307, 217]],\n",
              "  '1MWAVTVI',\n",
              "  0.25906159867502987),\n",
              " ([[409, 205], [457, 205], [457, 219], [409, 219]],\n",
              "  'Admn: No',\n",
              "  0.24689181132857882),\n",
              " ([[67, 223], [123, 223], [123, 237], [67, 237]],\n",
              "  'Ssiuueni',\n",
              "  0.0819913442597497),\n",
              " ([[129, 225], [165, 225], [165, 239], [129, 239]],\n",
              "  'MAMR',\n",
              "  0.1767764389514923),\n",
              " ([[67, 249], [161, 249], [161, 265], [67, 265]],\n",
              "  'Father $ Nme',\n",
              "  0.4627730483663585),\n",
              " ([[469, 271], [525, 271], [525, 283], [469, 283]],\n",
              "  'SINuture',\n",
              "  0.14020589300802058),\n",
              " ([[64, 274], [163, 274], [163, 291], [64, 291]],\n",
              "  'Mothiet\" $ N.me',\n",
              "  0.2714789273380968),\n",
              " ([[67, 309], [97, 309], [97, 321], [67, 321]], 'M', 0.5073065921948263),\n",
              " ([[137, 309], [171, 309], [171, 321], [137, 321]],\n",
              "  'Feml',\n",
              "  0.1683693528175354),\n",
              " ([[231, 313], [259, 313], [259, 325], [231, 325]],\n",
              "  '$om',\n",
              "  0.06547007672202147),\n",
              " ([[387, 313], [493, 313], [493, 327], [387, 327]],\n",
              "  'Mohile Numher',\n",
              "  0.8741341189434049),\n",
              " ([[59, 353], [127, 353], [127, 369], [59, 369]],\n",
              "  'Adhar No',\n",
              "  0.7192391566458288),\n",
              " ([[413, 359], [453, 359], [453, 373], [413, 373]],\n",
              "  'Caste',\n",
              "  0.696188964347118),\n",
              " ([[59, 381], [129, 381], [129, 397], [59, 397]],\n",
              "  'Girgors',\n",
              "  0.17884840912421732),\n",
              " ([[137, 382], [243, 382], [243, 402], [137, 402]],\n",
              "  'Gin/onC/SC/ST',\n",
              "  0.12101266591886965),\n",
              " ([[371, 389], [427, 389], [427, 405], [371, 405]],\n",
              "  'Religion',\n",
              "  0.4696161867655422),\n",
              " ([[59, 411], [117, 411], [117, 427], [59, 427]],\n",
              "  'Address',\n",
              "  0.753417277607513),\n",
              " ([[55, 441], [109, 441], [109, 455], [55, 455]], 'F', 0.49271106123081054),\n",
              " ([[415, 447], [485, 447], [485, 461], [415, 461]],\n",
              "  'F Cude Nu',\n",
              "  0.2518498044228306),\n",
              " ([[59, 481], [123, 481], [123, 497], [59, 497]],\n",
              "  'SUBJECT-',\n",
              "  0.9966812796643576),\n",
              " ([[46, 530], [234, 530], [234, 555], [46, 555]],\n",
              "  'Academic Education',\n",
              "  0.8316016438414411),\n",
              " ([[47, 575], [79, 575], [79, 587], [47, 587]], 'ciaS', 0.09041948616504669),\n",
              " ([[97, 575], [125, 575], [125, 587], [97, 587]], 'VAk', 0.11523433859145715),\n",
              " ([[141, 575], [189, 575], [189, 587], [141, 587]],\n",
              "  'KOilro',\n",
              "  0.1801497974666079),\n",
              " ([[233, 577], [257, 577], [257, 589], [233, 589]], '4m', 0.3976376133691172),\n",
              " ([[275, 577], [299, 577], [299, 589], [275, 589]],\n",
              "  'Oin',\n",
              "  0.17764966450562036),\n",
              " ([[313, 577], [389, 577], [389, 591], [313, 591]],\n",
              "  'COUGE NAME',\n",
              "  0.21690033518943924),\n",
              " ([[423, 579], [461, 579], [461, 591], [423, 591]],\n",
              "  'DOARE',\n",
              "  0.537770938594347),\n",
              " ([[499, 581], [547, 581], [547, 593], [499, 593]],\n",
              "  'SUIICT5',\n",
              "  0.22161874572457785),\n",
              " ([[423, 593], [477, 593], [477, 605], [423, 605]],\n",
              "  'USWSTY',\n",
              "  0.0972164777699329),\n",
              " ([[45, 603], [75, 603], [75, 617], [45, 617]], '10T', 0.33642598571999904),\n",
              " ([[45, 635], [71, 635], [71, 649], [45, 649]], '12m', 0.4957167809043148),\n",
              " ([[43, 665], [75, 665], [75, 679], [43, 679]], '18 /', 0.13329461216926575),\n",
              " ([[41, 679], [69, 679], [69, 693], [41, 693]], '#Sc', 0.33686816692352295),\n",
              " ([[41, 711], [73, 711], [73, 725], [41, 725]], 'M', 0.7048013987310355),\n",
              " ([[39, 727], [67, 727], [67, 741], [39, 741]], 'MSE', 0.16788022341013084),\n",
              " ([[39, 743], [65, 743], [65, 757], [39, 757]], 'Zud', 0.6387442600037473),\n",
              " ([[37, 759], [69, 759], [69, 773], [37, 773]], 'MA/', 0.11356315812134424),\n",
              " ([[37, 775], [65, 775], [65, 789], [37, 789]], '#Sc', 0.1294683517340176),\n",
              " ([[35, 791], [61, 791], [61, 805], [35, 805]], '#rd', 0.08978640288114548),\n",
              " ([[35, 809], [61, 809], [61, 821], [35, 821]], 'M4', 0.7840895337309488),\n",
              " ([[33, 825], [59, 825], [59, 837], [33, 837]], '\"t', 0.15899453866212487),\n",
              " ([[253.3273272060037, 202.26005992660404],\n",
              "   [280.976187060184, 204.78306954218135],\n",
              "   [279.6726727939963, 214.73994007339596],\n",
              "   [252.02381293981605, 211.21693045781865]],\n",
              "  'Scl',\n",
              "  0.07572704276144977)]"
            ]
          },
          "metadata": {},
          "execution_count": 32
        }
      ],
      "source": [
        "# 'en' is specifying English OCR\n",
        "reader = easyocr.Reader(['en', 'hi'])\n",
        "result = reader.readtext(IMAGE_PATH)\n",
        "# Result shows the Coordinates, Text and Score\n",
        "result"
      ]
    },
    {
      "cell_type": "markdown",
      "metadata": {
        "id": "BgtB3yBLvbWT"
      },
      "source": [
        "## 2. Write Recognized Text"
      ]
    },
    {
      "cell_type": "code",
      "source": [
        "# Text from an image\n",
        "text = [result[res][1] for res in range(len(result))]\n",
        "text"
      ],
      "metadata": {
        "id": "0FJ41fJezjg8"
      },
      "execution_count": null,
      "outputs": []
    },
    {
      "cell_type": "markdown",
      "metadata": {
        "id": "jpiJB8p4vbWa"
      },
      "source": [
        "## 3. Draw Bounding Boxes in Multiple Lines\n"
      ]
    },
    {
      "cell_type": "code",
      "execution_count": null,
      "metadata": {
        "id": "k4aDN1pDvbWb"
      },
      "outputs": [],
      "source": [
        "img = cv2.imread(IMAGE_PATH)\n",
        "# Image size with DPI\n",
        "plt.figure(figsize=(20, 20), dpi=100)\n",
        "i = 0\n",
        "for detection in result:\n",
        "  # Top left coordinate\n",
        "    top_left = tuple([int (val) for val in detection[0][0]])\n",
        "  # Bottom right coordinate\n",
        "    bottom_right = tuple([int (val) for val in detection[0][2]])\n",
        "  # Text extraction\n",
        "    text = detection[1]\n",
        "    print(str(i)+' '+text)\n",
        "  # Draw Rectangle\n",
        "    img = cv2.rectangle(img,top_left,bottom_right,(0,0,0),2)\n",
        "    i+=1\n",
        "\n",
        "plt.imshow(img)\n",
        "plt.savefig('Detected_Text.png')\n",
        "plt.show()"
      ]
    },
    {
      "cell_type": "markdown",
      "metadata": {
        "id": "kxOK67cKDIPN"
      },
      "source": [
        "## 4. Prediction Score Histogram"
      ]
    },
    {
      "cell_type": "code",
      "execution_count": null,
      "metadata": {
        "id": "S0GhYnIrkits"
      },
      "outputs": [],
      "source": [
        "data = []\n",
        "for i in range(len(result)):\n",
        "  # Append the prediction score in the list\n",
        "  data.append([result[i][2]])\n",
        "  # Create the dataframe of the prediction score\n",
        "  df = pd.DataFrame(data,columns=[\"Prediction_Score\"])\n",
        "\n",
        "display(df.head())\n",
        "df.plot.hist(bins=20)\n",
        "plt.savefig(\"Prediction_Score.png\", dpi=100)"
      ]
    },
    {
      "cell_type": "code",
      "execution_count": null,
      "metadata": {
        "id": "_psLt_kdDARL"
      },
      "outputs": [],
      "source": [
        "# Statistical Summary of score\n",
        "df.describe()"
      ]
    },
    {
      "cell_type": "markdown",
      "metadata": {
        "id": "l8aP14dlfHYO"
      },
      "source": [
        "## 5. Write Output Text in the File"
      ]
    },
    {
      "cell_type": "code",
      "execution_count": null,
      "metadata": {
        "id": "3lSucT7ESRO7"
      },
      "outputs": [],
      "source": [
        "textfile = open(\"Output.txt\", \"w\")\n",
        "# Write output text in the file\n",
        "for i in range(len(result)):\n",
        "  textfile.write(str(i) +': ' + str([result[i][1]])+ \"\\n\")\n",
        "\n",
        "textfile.close()"
      ]
    },
    {
      "cell_type": "markdown",
      "source": [
        "## 6. Cropping and storing Detected Bounding Boxes"
      ],
      "metadata": {
        "id": "Ym4NmnWpvBbK"
      }
    },
    {
      "cell_type": "code",
      "source": [
        "# Create Directory to store patches\n",
        "os.mkdir ('/content/Patches')\n",
        "%cd '/content/Patches'"
      ],
      "metadata": {
        "id": "2rVz5K_jkX54"
      },
      "execution_count": null,
      "outputs": []
    },
    {
      "cell_type": "code",
      "source": [
        "for i in range(len(result)):\n",
        "  X= int(result[i][0][0][0])            # //Column\n",
        "  Y= int(result[i][0][0][1])            # //Row\n",
        "  W= int(result[i][0][1][0])            # //Width\n",
        "  H= int(result[i][0][2][1])            # //Height\n",
        "# Slicing of particular boxes\n",
        "  cropped_image = img[Y:Y+H, X:X+W]\n",
        "# Save an image\n",
        "  cv2.imwrite(str(i)+'.png', cropped_image)"
      ],
      "metadata": {
        "id": "PJPsrwr9SbFt"
      },
      "execution_count": null,
      "outputs": []
    },
    {
      "cell_type": "code",
      "source": [
        "# Zip the patches Folder\n",
        "# /Destination /Source\n",
        "!zip -r /content/Patches.zip /content/Patches"
      ],
      "metadata": {
        "id": "z-GP9rWlrW8U"
      },
      "execution_count": null,
      "outputs": []
    },
    {
      "cell_type": "code",
      "execution_count": null,
      "metadata": {
        "id": "POjdQJQ7fDBb",
        "colab": {
          "base_uri": "https://localhost:8080/",
          "height": 17
        },
        "outputId": "1488631d-5085-480b-e1e5-7273ef7c7128"
      },
      "outputs": [
        {
          "output_type": "display_data",
          "data": {
            "text/plain": [
              "<IPython.core.display.Javascript object>"
            ],
            "application/javascript": [
              "\n",
              "    async function download(id, filename, size) {\n",
              "      if (!google.colab.kernel.accessAllowed) {\n",
              "        return;\n",
              "      }\n",
              "      const div = document.createElement('div');\n",
              "      const label = document.createElement('label');\n",
              "      label.textContent = `Downloading \"${filename}\": `;\n",
              "      div.appendChild(label);\n",
              "      const progress = document.createElement('progress');\n",
              "      progress.max = size;\n",
              "      div.appendChild(progress);\n",
              "      document.body.appendChild(div);\n",
              "\n",
              "      const buffers = [];\n",
              "      let downloaded = 0;\n",
              "\n",
              "      const channel = await google.colab.kernel.comms.open(id);\n",
              "      // Send a message to notify the kernel that we're ready.\n",
              "      channel.send({})\n",
              "\n",
              "      for await (const message of channel.messages) {\n",
              "        // Send a message to notify the kernel that we're ready.\n",
              "        channel.send({})\n",
              "        if (message.buffers) {\n",
              "          for (const buffer of message.buffers) {\n",
              "            buffers.push(buffer);\n",
              "            downloaded += buffer.byteLength;\n",
              "            progress.value = downloaded;\n",
              "          }\n",
              "        }\n",
              "      }\n",
              "      const blob = new Blob(buffers, {type: 'application/binary'});\n",
              "      const a = document.createElement('a');\n",
              "      a.href = window.URL.createObjectURL(blob);\n",
              "      a.download = filename;\n",
              "      div.appendChild(a);\n",
              "      a.click();\n",
              "      div.remove();\n",
              "    }\n",
              "  "
            ]
          },
          "metadata": {}
        },
        {
          "output_type": "display_data",
          "data": {
            "text/plain": [
              "<IPython.core.display.Javascript object>"
            ],
            "application/javascript": [
              "download(\"download_3463b2e9-ff17-4072-a2c8-553a3300233b\", \"Patches.zip\", 136613)"
            ]
          },
          "metadata": {}
        }
      ],
      "source": [
        "# Download the patches folder\n",
        "from google.colab import files\n",
        "files.download(\"/content/Patches.zip\")"
      ]
    },
    {
      "cell_type": "code",
      "source": [
        "# Write dependencies for future consideration\n",
        "\n",
        "# %cd ..\n",
        "# !pip freeze > Requirements.txt"
      ],
      "metadata": {
        "id": "MjzWx53W1IaQ",
        "colab": {
          "base_uri": "https://localhost:8080/"
        },
        "outputId": "bb015d3f-9b60-4178-c14b-1f7bd149f940"
      },
      "execution_count": null,
      "outputs": [
        {
          "output_type": "stream",
          "name": "stdout",
          "text": [
            "/content\n"
          ]
        }
      ]
    }
  ],
  "metadata": {
    "accelerator": "GPU",
    "colab": {
      "name": "EasyOCR_(Histogram + Patches).ipynb",
      "provenance": [],
      "include_colab_link": true
    },
    "kernelspec": {
      "display_name": "Python 3",
      "language": "python",
      "name": "python3"
    },
    "language_info": {
      "codemirror_mode": {
        "name": "ipython",
        "version": 3
      },
      "file_extension": ".py",
      "mimetype": "text/x-python",
      "name": "python",
      "nbconvert_exporter": "python",
      "pygments_lexer": "ipython3",
      "version": "3.7.4"
    }
  },
  "nbformat": 4,
  "nbformat_minor": 0
}